{
 "cells": [
  {
   "cell_type": "code",
   "execution_count": 8,
   "id": "23b974d9",
   "metadata": {},
   "outputs": [],
   "source": [
    "import pandas as pd\n",
    "import pickle"
   ]
  },
  {
   "cell_type": "code",
   "execution_count": 9,
   "id": "396e2140",
   "metadata": {},
   "outputs": [],
   "source": [
    "with open(\"RecoilElectrons.1k.data\", \"rb\") as FileHandle:\n",
    "    j = pickle.load(FileHandle)"
   ]
  },
  {
   "cell_type": "code",
   "execution_count": 21,
   "id": "e71b5eb9",
   "metadata": {},
   "outputs": [
    {
     "data": {
      "text/plain": [
       "1520.2730177563606"
      ]
     },
     "execution_count": 21,
     "metadata": {},
     "output_type": "execute_result"
    }
   ],
   "source": [
    "n = 0\n",
    "for i in j:\n",
    "    n = max(n,max(i.E))\n",
    "n"
   ]
  },
  {
   "cell_type": "code",
   "execution_count": 15,
   "id": "4dc152fd",
   "metadata": {},
   "outputs": [
    {
     "data": {
      "text/plain": [
       "array([  36.32927255,  137.14206   ,  140.79495818, 1009.68123345,\n",
       "        723.53201947])"
      ]
     },
     "execution_count": 15,
     "metadata": {},
     "output_type": "execute_result"
    }
   ],
   "source": [
    "j[5].E"
   ]
  },
  {
   "cell_type": "code",
   "execution_count": null,
   "id": "3c37d3de",
   "metadata": {},
   "outputs": [],
   "source": []
  }
 ],
 "metadata": {
  "kernelspec": {
   "display_name": "Python 3",
   "language": "python",
   "name": "python3"
  },
  "language_info": {
   "codemirror_mode": {
    "name": "ipython",
    "version": 3
   },
   "file_extension": ".py",
   "mimetype": "text/x-python",
   "name": "python",
   "nbconvert_exporter": "python",
   "pygments_lexer": "ipython3",
   "version": "3.8.8"
  }
 },
 "nbformat": 4,
 "nbformat_minor": 5
}
